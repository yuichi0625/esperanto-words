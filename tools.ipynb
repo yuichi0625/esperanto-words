{
 "cells": [
  {
   "cell_type": "code",
   "execution_count": 1,
   "id": "interim-detective",
   "metadata": {},
   "outputs": [],
   "source": [
    "import locale\n",
    "from collections import defaultdict\n",
    "from pathlib import Path\n",
    "\n",
    "locale.setlocale(locale.LC_ALL, '')\n",
    "dir_name = 'annotations'"
   ]
  },
  {
   "cell_type": "markdown",
   "id": "intimate-louis",
   "metadata": {},
   "source": [
    "**CAUTION**: This will modify the existing files\n",
    "\n",
    "Sort the content of each annotation file in `dir_name` directory."
   ]
  },
  {
   "cell_type": "code",
   "execution_count": 2,
   "id": "former-israel",
   "metadata": {},
   "outputs": [],
   "source": [
    "def pretty_sort(rows):\n",
    "    \"\"\"\n",
    "    rows = e.g. [\"katajn\\tkat'ajn\", \"katidajn\\tkat'id'ajn\", ...]\n",
    "    \"\"\"\n",
    "    result = []\n",
    "\n",
    "    def sort(rows, index=0):\n",
    "        morph2rows_end = defaultdict(list)\n",
    "        morph2rows_next = defaultdict(list)\n",
    "        for row in rows:\n",
    "            annot = row.split('\\t')[1].split(\"'\")\n",
    "            if index != 0 and len(annot) <= index + 1:\n",
    "                morph = '-' if len(annot) < index + 1 else annot[index]\n",
    "                morph2rows_end[morph].append(row)\n",
    "            else:\n",
    "                morph2rows_next[annot[index]].append(row)\n",
    "\n",
    "        for m in sorted(list(morph2rows_end.keys()), key=locale.strxfrm):\n",
    "            result.extend(sorted(morph2rows_end[m], key=locale.strxfrm))\n",
    "\n",
    "        for m in sorted(list(morph2rows_next.keys()), key=locale.strxfrm):\n",
    "            sort(morph2rows_next[m], index + 1)\n",
    "\n",
    "    sort(rows)\n",
    "\n",
    "    return result\n",
    "\n",
    "\n",
    "sep2cat = {\n",
    "    \"'o'j\": \"'oj\",\n",
    "    \"'o'j'n\": \"'ojn\",\n",
    "    \"'o'n\": \"'on\",\n",
    "    \"'a'j\": \"'aj\",\n",
    "    \"'a'j'n\": \"'ajn\",\n",
    "    \"'a'n\": \"'an\",\n",
    "    \"'e'n\": \"'en\"}\n",
    "\n",
    "\n",
    "for filename in Path(dir_name).glob('*.txt'):\n",
    "    with open(filename, encoding='utf-8') as f:\n",
    "        text = f.read()\n",
    "\n",
    "    rows = []\n",
    "    for row in text.split('\\n'):\n",
    "        for sep, cat in sep2cat.items():\n",
    "            if row.endswith(sep):\n",
    "                row = row[:-len(sep)] + cat\n",
    "        rows.append(row)\n",
    "\n",
    "    sorted_rows = pretty_sort(rows)\n",
    "\n",
    "    result_rows = []\n",
    "    for row in sorted_rows:\n",
    "        for sep, cat in sep2cat.items():\n",
    "            if row.endswith(cat):\n",
    "                row = row[:-len(cat)] + sep\n",
    "        result_rows.append(row)\n",
    "\n",
    "    with open(filename, 'w', encoding='utf-8') as f:\n",
    "        f.write('\\n'.join(result_rows))"
   ]
  },
  {
   "cell_type": "code",
   "execution_count": 52,
   "id": "durable-master",
   "metadata": {},
   "outputs": [],
   "source": []
  }
 ],
 "metadata": {
  "kernelspec": {
   "display_name": "Python 3",
   "language": "python",
   "name": "python3"
  },
  "language_info": {
   "codemirror_mode": {
    "name": "ipython",
    "version": 3
   },
   "file_extension": ".py",
   "mimetype": "text/x-python",
   "name": "python",
   "nbconvert_exporter": "python",
   "pygments_lexer": "ipython3",
   "version": "3.8.7"
  }
 },
 "nbformat": 4,
 "nbformat_minor": 5
}
